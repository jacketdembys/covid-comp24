{
 "cells": [
  {
   "cell_type": "code",
   "execution_count": null,
   "id": "05666276",
   "metadata": {},
   "outputs": [],
   "source": [
    "import pandas as pd\n",
    "import cv2\n",
    "import os\n",
    "import ast \n",
    "from concurrent.futures import ThreadPoolExecutor, as_completed\n",
    "\n",
    "\n",
    "files_dir='/mnt/challenge_preprocessing/files'\n",
    "\n",
    "\n",
    "def all_images_same_shape(path, img_range_str):\n",
    "   \n",
    "    global scan\n",
    "    img_range = ast.literal_eval(img_range_str)\n",
    "    start, end = img_range  \n",
    "    \n",
    "    path = path.replace('preprocessed', 'OriginalDatauncompressed')\n",
    "\n",
    "    end=len(os.listdir(path))\n",
    "\n",
    "    shapes = set()\n",
    "\n",
    "    scan+=1\n",
    "      \n",
    "    for i in range(0, end):\n",
    "        img_path = os.path.join(path, f\"{i}.jpg\")\n",
    "        img = cv2.imread(img_path)\n",
    "        if img is not None:\n",
    "            shapes.add(img.shape)\n",
    "        else:\n",
    "            return False\n",
    "    \n",
    "    return len(shapes) == 1 \n",
    "\n",
    "\n",
    "def process_row(row):\n",
    "    path, img_range_str = row['Path'], row['Range']\n",
    "    if all_images_same_shape(path, img_range_str):\n",
    "        return row\n",
    "    else:\n",
    "        return None\n",
    "\n",
    "\n",
    "    \n",
    "def filter_df_concurrently(df):\n",
    "\n",
    "    filtered_rows = []\n",
    "    with ThreadPoolExecutor() as executor:\n",
    "\n",
    "        futures = [executor.submit(process_row, row) for _, row in df.iterrows()]\n",
    "        \n",
    "        for future in as_completed(futures):\n",
    "            result = future.result()\n",
    "            if result is not None:\n",
    "                filtered_rows.append(result)\n",
    "    \n",
    "\n",
    "    return pd.DataFrame(filtered_rows)\n",
    "\n"
   ]
  },
  {
   "cell_type": "code",
   "execution_count": null,
   "id": "c72e55a2",
   "metadata": {},
   "outputs": [],
   "source": [
    "df = pd.read_csv(os.path.join(files_dir,'la-challenge1_train_path_range_label.csv'))\n",
    "\n",
    "scan=0\n",
    "filtered_df = filter_df_concurrently(df)\n",
    "\n",
    "shuffled_df = filtered_df.sample(frac=1).reset_index(drop=True)\n",
    "print(shuffled_df)\n",
    "print(df)\n",
    "shuffled_df.to_csv(os.path.join(files_dir,'filtered-la-challenge1_train_path_range_label.csv'), index=False)"
   ]
  },
  {
   "cell_type": "code",
   "execution_count": null,
   "id": "7af31e45",
   "metadata": {},
   "outputs": [],
   "source": [
    "df = pd.read_csv(os.path.join(files_dir,'la-challenge1_valid_path_range_label.csv'))\n",
    "\n",
    "scan=0\n",
    "filtered_df = filter_df_concurrently(df)\n",
    "\n",
    "shuffled_df = filtered_df.sample(frac=1).reset_index(drop=True)\n",
    "print(shuffled_df)\n",
    "print(df)\n",
    "shuffled_df.to_csv(os.path.join(files_dir,'filtered-la-challenge1_valid_path_range_label.csv'), index=False)"
   ]
  }
 ],
 "metadata": {
  "kernelspec": {
   "display_name": "Python [conda env:.conda-UnetCRF2] *",
   "language": "python",
   "name": "conda-env-.conda-UnetCRF2-py"
  },
  "language_info": {
   "codemirror_mode": {
    "name": "ipython",
    "version": 3
   },
   "file_extension": ".py",
   "mimetype": "text/x-python",
   "name": "python",
   "nbconvert_exporter": "python",
   "pygments_lexer": "ipython3",
   "version": "3.10.5"
  }
 },
 "nbformat": 4,
 "nbformat_minor": 5
}
