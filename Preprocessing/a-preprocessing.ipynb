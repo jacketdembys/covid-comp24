{
 "cells": [
  {
   "cell_type": "code",
   "execution_count": null,
   "id": "688acd48",
   "metadata": {},
   "outputs": [],
   "source": [
    "import os\n",
    "import cv2\n",
    "import random\n",
    "import numpy as np\n",
    "import pandas as pd\n",
    "from tqdm import tqdm\n",
    "import scipy\n",
    "from scipy import ndimage\n",
    "import concurrent.futures\n",
    "from concurrent.futures import ThreadPoolExecutor\n",
    "import pickle"
   ]
  },
  {
   "cell_type": "code",
   "execution_count": null,
   "id": "1730b21f",
   "metadata": {},
   "outputs": [],
   "source": [
    "def find_jpg_files(search_dir):\n",
    "    jpg_files = []\n",
    "    for root, dirs, files in os.walk(search_dir):\n",
    "        for file in files:\n",
    "            if file.endswith('.jpg'):\n",
    "                full_path = os.path.join(root, file)\n",
    "                jpg_files.append(full_path)\n",
    "    return jpg_files"
   ]
  },
  {
   "cell_type": "code",
   "execution_count": null,
   "id": "4d870f68",
   "metadata": {},
   "outputs": [],
   "source": [
    "def autocropmin(image, threshold=100, kernsel_size = 10):\n",
    "        \n",
    "    img = image.copy()\n",
    "    \n",
    "    SIZE = img.shape[0]\n",
    "    imgfilt = ndimage.minimum_filter(img, size=kernsel_size)\n",
    "    img_b=np.where(imgfilt<threshold,0,255)\n",
    "    a=img_b[:,:,0].sum(axis=1)\n",
    "    a=np.concatenate(([0],a,[0]))\n",
    "\n",
    "    a_=np.where(a==0)[0]\n",
    "    mina=a_[np.argmax(a_[1:]-a_[:-1])]\n",
    "    maxa=a_[np.argmax(a_[1:]-a_[:-1])+1]-1\n",
    "\n",
    "    b=img_b[:,:,0].sum(axis=0)\n",
    "    b=np.concatenate(([0],b,[0]))\n",
    "\n",
    "    b_=np.where(b==0)[0]\n",
    "    minb=b_[np.argmax(b_[1:]-b_[:-1])]\n",
    "    maxb=b_[np.argmax(b_[1:]-b_[:-1])+1]-1\n",
    "\n",
    "    if  mina!=maxa and minb!=maxb:\n",
    "        imageout=img[mina:maxa,minb:maxb,:]\n",
    "    else:\n",
    "        imageout=img\n",
    "\n",
    "    return imageout"
   ]
  },
  {
   "cell_type": "code",
   "execution_count": null,
   "id": "07128cff",
   "metadata": {},
   "outputs": [],
   "source": [
    "# Path of Challenge1 data\n",
    "search_dir = '/home/Data/rmf3mc/Challenge/challenge1/Code/Train_Valid_dataset/challenge1_dataset/OriginalDatauncompressed'\n",
    "\n",
    "# List to hold the paths of .jpg files\n",
    "jpg_files = find_jpg_files(search_dir)\n"
   ]
  },
  {
   "cell_type": "code",
   "execution_count": null,
   "id": "8d641463",
   "metadata": {},
   "outputs": [],
   "source": [
    "image_number=0\n",
    "len_jpg=len(jpg_files)\n",
    "\n",
    "def process_image(str1):\n",
    "    img = cv2.imread(str1)\n",
    "    if img is None:\n",
    "        return str1, True, None\n",
    "\n",
    "    ct_scan = \"/\".join(str1.split(\"/\")[-6:-1])\n",
    "    new_shape = img.shape  \n",
    "\n",
    "    img = autocropmin(img)\n",
    "\n",
    "    str1 = str1.replace(\"/OriginalDatauncompressed/\", \"/preprocessed/\")\n",
    "    folder_path = \"/\".join(str1.split(\"/\")[:-1])\n",
    "\n",
    "    os.makedirs(folder_path, exist_ok=True)\n",
    "    cv2.imwrite(str1, img)\n",
    "    \n",
    "    return ct_scan, False, new_shape\n",
    "\n",
    "\n",
    "shape_dict = {}\n",
    "diff_shape = []\n",
    "bug_files = []\n",
    "\n",
    "\n",
    "with concurrent.futures.ThreadPoolExecutor() as executor:\n",
    "    futures = [executor.submit(process_image, str1) for str1 in jpg_files]\n",
    "    \n",
    "    for future in tqdm(concurrent.futures.as_completed(futures), total=len(futures), desc=\"Processing Images\"):\n",
    "        ct_scan, is_bug_file, shape = future.result()\n",
    "        if is_bug_file:\n",
    "            bug_files.append(ct_scan)\n",
    "        else:\n",
    "            if ct_scan not in shape_dict:\n",
    "                shape_dict[ct_scan] = set()\n",
    "            shape_dict[ct_scan].add(shape)\n",
    "            if len(shape_dict[ct_scan]) != 1:\n",
    "                diff_shape.append(ct_scan)"
   ]
  },
  {
   "cell_type": "code",
   "execution_count": null,
   "id": "94a0028c",
   "metadata": {},
   "outputs": [],
   "source": [
    "search_dir = '/home/Data/rmf3mc/Challenge/challenge1/Code/Train_Valid_dataset/challenge1_dataset/preprocessed'\n",
    "\n",
    "challenge1_preprocessed=find_jpg_files(search_dir)\n",
    "print(len(challenge1_preprocessed))"
   ]
  },
  {
   "cell_type": "code",
   "execution_count": null,
   "id": "49db8420",
   "metadata": {},
   "outputs": [],
   "source": [
    "def process_image(path):\n",
    "    img = cv2.imread(path)\n",
    "    img2 = ndimage.minimum_filter(img, 5)\n",
    "    img_b = np.where(img2 < 100, 0, 255)\n",
    "    mask = scipy.ndimage.binary_fill_holes(img_b[:, :, 0])\n",
    "    mask_ = mask * 255\n",
    "    aaa = mask_ - img_b[:, :, 0]\n",
    "    area = aaa.sum() / 255\n",
    "    return area"
   ]
  },
  {
   "cell_type": "code",
   "execution_count": null,
   "id": "878dcedf",
   "metadata": {},
   "outputs": [],
   "source": [
    "def process_images_multithreaded_ordered(image_paths):\n",
    "    with ThreadPoolExecutor() as executor:\n",
    "        results = list(executor.map(process_image, image_paths))\n",
    "    return results"
   ]
  },
  {
   "cell_type": "code",
   "execution_count": null,
   "id": "953afb83",
   "metadata": {},
   "outputs": [],
   "source": [
    "challenge1_train_area = process_images_multithreaded_ordered(challenge1_preprocessed)"
   ]
  },
  {
   "cell_type": "code",
   "execution_count": null,
   "id": "43afebdd",
   "metadata": {},
   "outputs": [],
   "source": [
    "challenge1_preprocessed_train_indices = [i for i, path in enumerate(challenge1_preprocessed) if 'train' in path]\n",
    "challenge1_preprocessed_valid_indices = [i for i, path in enumerate(challenge1_preprocessed) if 'valid' in path]"
   ]
  },
  {
   "cell_type": "code",
   "execution_count": null,
   "id": "9918e709",
   "metadata": {},
   "outputs": [],
   "source": [
    "challenge1_preprocessed_train_paths = [challenge1_preprocessed[i] for i in challenge1_preprocessed_train_indices]\n",
    "challenge1_train_areas = [challenge1_train_area[i] for i in challenge1_preprocessed_train_indices]\n",
    "challenge1_preprocessed_valid_paths = [challenge1_preprocessed[i] for i in challenge1_preprocessed_valid_indices]\n",
    "challenge1_valid_areas = [challenge1_train_area[i] for i in challenge1_preprocessed_valid_indices]"
   ]
  },
  {
   "cell_type": "code",
   "execution_count": null,
   "id": "e5a5bffe",
   "metadata": {},
   "outputs": [],
   "source": [
    "challenge1_train_path_area=pd.DataFrame((zip(challenge1_preprocessed_train_paths, challenge1_train_areas)), columns = ['path', 'area'])\n",
    "challenge1_valid_path_area=pd.DataFrame((zip(challenge1_preprocessed_valid_paths, challenge1_valid_areas)), columns = ['path', 'area'])"
   ]
  },
  {
   "cell_type": "code",
   "execution_count": null,
   "id": "037a54ad",
   "metadata": {},
   "outputs": [],
   "source": [
    "path_to_files='/home/Data/rmf3mc/Challenge/challenge1/Code/Refined/files'\n",
    "challenge1_train_path_area.to_csv(os.path.join(path_to_files,'challenge1_train_path_area.csv'))\n",
    "challenge1_valid_path_area.to_csv(os.path.join(path_to_files,'challenge1_valid_path_area.csv'))"
   ]
  },
  {
   "cell_type": "code",
   "execution_count": null,
   "id": "854969f4",
   "metadata": {},
   "outputs": [],
   "source": [
    "challenge1_valid_area_path = pd.read_csv(os.path.join(path_to_files, 'challenge1_valid_path_area.csv'))\n",
    "\n",
    "challenge1_valid_area_path[\"ct_path\"] = challenge1_valid_area_path[\"path\"].apply(lambda x: \"/\".join(x.split(\"/\")[:-1]))\n",
    "\n",
    "challenge1_valid_area_path[\"ct_slice\"] = challenge1_valid_area_path[\"path\"].apply(lambda x: int(x.split(\"/\")[-1].split(\".\")[0]))\n",
    "\n",
    "challenge1_valid_area_path.sort_values(by=['ct_path', 'ct_slice'], inplace=True)"
   ]
  },
  {
   "cell_type": "code",
   "execution_count": null,
   "id": "9b1cda6f",
   "metadata": {},
   "outputs": [],
   "source": [
    "challenge1_train_area_path=pd.read_csv(os.path.join(path_to_files,'challenge1_train_path_area.csv'))\n",
    "\n",
    "challenge1_train_area_path[\"ct_path\"]=challenge1_train_area_path[\"path\"].apply(lambda x: \"/\".join(x.split(\"/\")[:-1]))\n",
    "\n",
    "challenge1_train_area_path[\"ct_slice\"]=challenge1_train_area_path[\"path\"].apply(lambda x: int(x.split(\"/\")[-1].split(\".\")[0]))\n",
    "\n",
    "challenge1_train_area_path.sort_values(by=['ct_path', 'ct_slice'], inplace=True)"
   ]
  },
  {
   "cell_type": "code",
   "execution_count": null,
   "id": "c18b93fb",
   "metadata": {},
   "outputs": [],
   "source": [
    "def sum_max(a,w=0.4):\n",
    "    l=len(a)\n",
    "    k=int(np.ceil(l*w))\n",
    "    d=0\n",
    "    tmp_max=0\n",
    "    # print(l, k)\n",
    "    for i in range(l-k+1):\n",
    "        if np.sum(a[i:i+k])>tmp_max:\n",
    "            tmp_max=np.sum(a[i:i+k])\n",
    "            d=i\n",
    "    return d,d+k"
   ]
  },
  {
   "cell_type": "code",
   "execution_count": null,
   "id": "28a6e0c9",
   "metadata": {},
   "outputs": [],
   "source": [
    "challenge1_ct_path_list = challenge1_valid_area_path[\"ct_path\"].unique()\n",
    "challenge1_valid_dic = {}\n",
    "for i in tqdm(range(len(challenge1_ct_path_list))):\n",
    "    tmp_df = challenge1_valid_area_path[challenge1_valid_area_path[\"ct_path\"] == challenge1_ct_path_list[i]].reset_index(drop=True)\n",
    "    challenge1_valid_dic[challenge1_ct_path_list[i]] = list(sum_max(tmp_df[\"area\"].values, 0.5))"
   ]
  },
  {
   "cell_type": "code",
   "execution_count": null,
   "id": "4a5344d5",
   "metadata": {},
   "outputs": [],
   "source": [
    "challenge1_ct_path_list=challenge1_train_area_path[\"ct_path\"].unique()\n",
    "challenge1_train_dic={}\n",
    "for i in tqdm(range(len(challenge1_ct_path_list))):\n",
    "    tmp_df=challenge1_train_area_path[challenge1_train_area_path[\"ct_path\"]==challenge1_ct_path_list[i]].reset_index(drop=True)\n",
    "    challenge1_train_dic[challenge1_ct_path_list[i]]=list(sum_max(tmp_df[\"area\"].values,0.5))"
   ]
  },
  {
   "cell_type": "code",
   "execution_count": null,
   "id": "0bd6fc38",
   "metadata": {},
   "outputs": [],
   "source": [
    "with open(os.path.join(path_to_files,'challenge1_train_range.pickle'), 'wb') as handle:\n",
    "    pickle.dump(challenge1_train_dic, handle, protocol=pickle.HIGHEST_PROTOCOL)"
   ]
  },
  {
   "cell_type": "code",
   "execution_count": null,
   "id": "576caffd",
   "metadata": {},
   "outputs": [],
   "source": [
    "with open(os.path.join(path_to_files,'challenge1_valid_range.pickle'), 'wb') as handle:\n",
    "    pickle.dump(challenge1_valid_dic, handle, protocol=pickle.HIGHEST_PROTOCOL)"
   ]
  }
 ],
 "metadata": {
  "kernelspec": {
   "display_name": "Python [conda env:.conda-UnetCRF2] *",
   "language": "python",
   "name": "conda-env-.conda-UnetCRF2-py"
  },
  "language_info": {
   "codemirror_mode": {
    "name": "ipython",
    "version": 3
   },
   "file_extension": ".py",
   "mimetype": "text/x-python",
   "name": "python",
   "nbconvert_exporter": "python",
   "pygments_lexer": "ipython3",
   "version": "3.10.5"
  }
 },
 "nbformat": 4,
 "nbformat_minor": 5
}
